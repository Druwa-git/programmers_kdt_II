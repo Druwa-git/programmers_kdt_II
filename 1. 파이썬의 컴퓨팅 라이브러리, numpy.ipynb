{
 "cells": [
  {
   "cell_type": "markdown",
   "metadata": {},
   "source": [
    "# 1. 파이썬의 컴퓨팅 라이브러리, numpy\n",
    "**numpy를 이용해서 데이터를 다뤄봅시다!**"
   ]
  },
  {
   "cell_type": "markdown",
   "metadata": {},
   "source": [
    "### Our Goal\n",
    "1. Numpy 시작하기\n",
    "    - prerequisite : Python의 List\n",
    "    - numpy import하기\n",
    "    - numpy.array\n",
    "\n",
    "2. Numpy로 연산하기\n",
    "    - Vector - Scalar : elementwise! (+, -, *, /)\n",
    "    - Vector - Vector : elementwise / broadcasting (+, -, *, /)\n",
    "    - Indexing & Slicing\n",
    "3. Example : Linear Algebra with Numpy\n",
    "    1. basics\n",
    "    - 영벡터 : `.zeros()`\n",
    "    - 일벡터 : `.ones()`\n",
    "    - 대각행렬 : `.diag()`\n",
    "    - 항등행렬 : `.eye()`\n",
    "    - 행렬곱 : `@` / `.dot()`\n",
    "  \n",
    "    2. furthermore\n",
    "    - 트레이스 : `.trace()`\n",
    "    - 행렬식 : `.linalg.det()`\n",
    "    - 역행렬 : `.linalg.inv()`\n",
    "    - 고유값 : `.linalg.eig()`\n"
   ]
  },
  {
   "cell_type": "markdown",
   "metadata": {},
   "source": [
    "## I. Numpy 시작하기"
   ]
  },
  {
   "cell_type": "markdown",
   "metadata": {},
   "source": [
    "## II. Numpy로 연산하기"
   ]
  },
  {
   "cell_type": "markdown",
   "metadata": {},
   "source": [
    "## Vector와 Scalar 사이의 연산\n",
    "\n",
    "벡터의 각 원소에 대해서 연산을 진행"
   ]
  },
  {
   "cell_type": "code",
   "execution_count": 2,
   "metadata": {},
   "outputs": [],
   "source": [
    "import numpy as np"
   ]
  },
  {
   "cell_type": "code",
   "execution_count": 5,
   "metadata": {},
   "outputs": [
    {
     "name": "stdout",
     "output_type": "stream",
     "text": [
      "더하기 : [0.2 0.4 0.6]\n"
     ]
    }
   ],
   "source": [
    "x = np.array([1,2,3])\n",
    "c = 5\n",
    "x = x / c\n",
    "\n",
    "print(f\"더하기 : {x}\")"
   ]
  },
  {
   "cell_type": "markdown",
   "metadata": {},
   "source": [
    "### Vector와 Vector 사이의 연산\n",
    "\n",
    "벡터의 **같은 인덱스** 끼리 연산이 진행"
   ]
  },
  {
   "cell_type": "code",
   "execution_count": 23,
   "metadata": {},
   "outputs": [
    {
     "name": "stdout",
     "output_type": "stream",
     "text": [
      "더하기 : [[ 3 12 25 16]\n",
      " [ 9 18 30 21]\n",
      " [14 22 34 25]]\n",
      "Indexing : 3\n"
     ]
    }
   ],
   "source": [
    "y = np.array([[1,3,5,6], [7,9,10,11], [12,13,14,15]])\n",
    "z = np.array([2,9,20,10])\n",
    "\n",
    "print(f\"더하기 : {y + z}\")\n",
    "print(f\"Indexing : {y[0, 1]}\")"
   ]
  },
  {
   "cell_type": "markdown",
   "metadata": {},
   "source": [
    "## Array Slicing\n",
    "\n",
    "Python의 리스트와 유사하게 진행"
   ]
  },
  {
   "cell_type": "code",
   "execution_count": 24,
   "metadata": {},
   "outputs": [
    {
     "data": {
      "text/plain": [
       "array([[ 3,  5],\n",
       "       [ 9, 10]])"
      ]
     },
     "execution_count": 24,
     "metadata": {},
     "output_type": "execute_result"
    }
   ],
   "source": [
    "y[0:2, 1:3]"
   ]
  },
  {
   "cell_type": "code",
   "execution_count": 25,
   "metadata": {},
   "outputs": [
    {
     "data": {
      "text/plain": [
       "array([[ 1,  3,  5,  6],\n",
       "       [ 7,  9, 10, 11]])"
      ]
     },
     "execution_count": 25,
     "metadata": {},
     "output_type": "execute_result"
    }
   ],
   "source": [
    "y[0:2]"
   ]
  },
  {
   "cell_type": "code",
   "execution_count": 26,
   "metadata": {},
   "outputs": [
    {
     "data": {
      "text/plain": [
       "array([[ 5,  6],\n",
       "       [10, 11],\n",
       "       [14, 15]])"
      ]
     },
     "execution_count": 26,
     "metadata": {},
     "output_type": "execute_result"
    }
   ],
   "source": [
    "y[0:3, 2:4]"
   ]
  },
  {
   "cell_type": "code",
   "execution_count": 30,
   "metadata": {},
   "outputs": [
    {
     "data": {
      "text/plain": [
       "array([[ 5,  6],\n",
       "       [10, 11],\n",
       "       [14, 15]])"
      ]
     },
     "execution_count": 30,
     "metadata": {},
     "output_type": "execute_result"
    }
   ],
   "source": [
    "y[:, 2:]"
   ]
  },
  {
   "cell_type": "markdown",
   "metadata": {},
   "source": [
    "## Array 의 Broadcasting\n",
    "\n",
    "자동으로 커지는 np.array. 행과 열을 맞춰줍니다.\n",
    "\n",
    "기본적으로 같은 Type의 data에서만 연산이 적용 가능\n",
    "하지만 만약에 피연산자가 연산 가능하도록 변환이 가능하다면 연산이 가능합니다.  \n",
    "이를 **Broadcasting**이라고 합니다."
   ]
  },
  {
   "cell_type": "code",
   "execution_count": 34,
   "metadata": {},
   "outputs": [
    {
     "name": "stdout",
     "output_type": "stream",
     "text": [
      "[[0]\n",
      " [1]\n",
      " [0]]\n",
      "[[1 2 3]\n",
      " [5 6 7]\n",
      " [7 8 9]]\n"
     ]
    }
   ],
   "source": [
    "a = np.array([[1,2,3],[4,5,6],[7,8,9]])\n",
    "x = np.array([0,1,0])\n",
    "\n",
    "x = x[:, None] #x를 전치\n",
    "print(x)\n",
    "print(a+x)"
   ]
  },
  {
   "cell_type": "code",
   "execution_count": 35,
   "metadata": {},
   "outputs": [
    {
     "name": "stdout",
     "output_type": "stream",
     "text": [
      "[[ 0  2 -3]\n",
      " [ 0  5 -6]\n",
      " [ 0  8 -9]]\n"
     ]
    }
   ],
   "source": [
    "y = np.array([0,1,-1])\n",
    "print(a*y)"
   ]
  },
  {
   "cell_type": "code",
   "execution_count": 36,
   "metadata": {},
   "outputs": [
    {
     "name": "stdout",
     "output_type": "stream",
     "text": [
      "[[ 3  1 -1]\n",
      " [ 4  2  0]\n",
      " [ 5  3  1]]\n"
     ]
    }
   ],
   "source": [
    "t = np.array([1,2,3])\n",
    "t = t[:, None] #transpose\n",
    "u = np.array([2,0,-2])\n",
    "\n",
    "print(t + u)"
   ]
  },
  {
   "cell_type": "markdown",
   "metadata": {},
   "source": [
    "## III. Numpy로 선형대수 지식 끼얹기"
   ]
  },
  {
   "cell_type": "markdown",
   "metadata": {},
   "source": [
    "## A. basics"
   ]
  },
  {
   "cell_type": "markdown",
   "metadata": {},
   "source": [
    "### 영벡터(행렬)\n",
    "\n",
    "- 원소가 모두 0임"
   ]
  },
  {
   "cell_type": "code",
   "execution_count": 39,
   "metadata": {},
   "outputs": [],
   "source": [
    "x = np.zeros(2)"
   ]
  },
  {
   "cell_type": "code",
   "execution_count": 40,
   "metadata": {},
   "outputs": [
    {
     "data": {
      "text/plain": [
       "array([[[0., 0., 0.],\n",
       "        [0., 0., 0.],\n",
       "        [0., 0., 0.]],\n",
       "\n",
       "       [[0., 0., 0.],\n",
       "        [0., 0., 0.],\n",
       "        [0., 0., 0.]],\n",
       "\n",
       "       [[0., 0., 0.],\n",
       "        [0., 0., 0.],\n",
       "        [0., 0., 0.]]])"
      ]
     },
     "execution_count": 40,
     "metadata": {},
     "output_type": "execute_result"
    }
   ],
   "source": [
    "np.zeros([3, 3, 3])"
   ]
  },
  {
   "cell_type": "markdown",
   "metadata": {},
   "source": [
    "### 일행렬"
   ]
  },
  {
   "cell_type": "code",
   "execution_count": 41,
   "metadata": {},
   "outputs": [
    {
     "data": {
      "text/plain": [
       "array([[1., 1., 1.],\n",
       "       [1., 1., 1.],\n",
       "       [1., 1., 1.]])"
      ]
     },
     "execution_count": 41,
     "metadata": {},
     "output_type": "execute_result"
    }
   ],
   "source": [
    "np.ones([3,3])"
   ]
  },
  {
   "cell_type": "markdown",
   "metadata": {},
   "source": [
    "### 대각행렬(diagonal matrix)"
   ]
  },
  {
   "cell_type": "code",
   "execution_count": 42,
   "metadata": {},
   "outputs": [
    {
     "data": {
      "text/plain": [
       "array([[2, 0],\n",
       "       [0, 4]])"
      ]
     },
     "execution_count": 42,
     "metadata": {},
     "output_type": "execute_result"
    }
   ],
   "source": [
    "np.diag([2, 4])"
   ]
  },
  {
   "cell_type": "code",
   "execution_count": 43,
   "metadata": {},
   "outputs": [
    {
     "data": {
      "text/plain": [
       "array([[1, 0, 0, 0, 0],\n",
       "       [0, 3, 0, 0, 0],\n",
       "       [0, 0, 5, 0, 0],\n",
       "       [0, 0, 0, 7, 0],\n",
       "       [0, 0, 0, 0, 9]])"
      ]
     },
     "execution_count": 43,
     "metadata": {},
     "output_type": "execute_result"
    }
   ],
   "source": [
    "np.diag([1,3,5,7,9])"
   ]
  },
  {
   "cell_type": "markdown",
   "metadata": {},
   "source": [
    "### 항등행렬"
   ]
  },
  {
   "cell_type": "code",
   "execution_count": 48,
   "metadata": {},
   "outputs": [
    {
     "data": {
      "text/plain": [
       "array([[1, 0],\n",
       "       [0, 1]])"
      ]
     },
     "execution_count": 48,
     "metadata": {},
     "output_type": "execute_result"
    }
   ],
   "source": [
    "np.eye(2, dtype=int)"
   ]
  },
  {
   "cell_type": "code",
   "execution_count": 47,
   "metadata": {},
   "outputs": [
    {
     "data": {
      "text/plain": [
       "array([[1.+0.j, 0.+0.j, 0.+0.j],\n",
       "       [0.+0.j, 1.+0.j, 0.+0.j],\n",
       "       [0.+0.j, 0.+0.j, 1.+0.j]])"
      ]
     },
     "execution_count": 47,
     "metadata": {},
     "output_type": "execute_result"
    }
   ],
   "source": [
    "np.eye(3, dtype=complex) #complex는 복소수"
   ]
  },
  {
   "cell_type": "markdown",
   "metadata": {},
   "source": [
    "### 행렬 곱 (dot product)"
   ]
  },
  {
   "cell_type": "code",
   "execution_count": 51,
   "metadata": {},
   "outputs": [
    {
     "name": "stdout",
     "output_type": "stream",
     "text": [
      "[[ 7 33]\n",
      " [14 36]]\n",
      "[[ 7 33]\n",
      " [14 36]]\n"
     ]
    }
   ],
   "source": [
    "mat_1 = np.array([[1,4], [2,3]])\n",
    "mat_2 = np.array([[7, 9], [0, 6]])\n",
    "\n",
    "print(mat_1 @ mat_2)\n",
    "print(mat_1.dot(mat_2))"
   ]
  },
  {
   "cell_type": "markdown",
   "metadata": {},
   "source": [
    "### trace\n",
    "\n",
    "- main diagonal의 sum\n",
    "- `np.trace()`를 사용"
   ]
  },
  {
   "cell_type": "code",
   "execution_count": 54,
   "metadata": {},
   "outputs": [
    {
     "data": {
      "text/plain": [
       "15"
      ]
     },
     "execution_count": 54,
     "metadata": {},
     "output_type": "execute_result"
    }
   ],
   "source": [
    "arr = np.array([[1,2,3],[4,5,6],[7,8,9]])\n",
    "arr.trace()"
   ]
  },
  {
   "cell_type": "code",
   "execution_count": 56,
   "metadata": {},
   "outputs": [
    {
     "data": {
      "text/plain": [
       "2"
      ]
     },
     "execution_count": 56,
     "metadata": {},
     "output_type": "execute_result"
    }
   ],
   "source": [
    "np.eye(2, dtype=int).trace()"
   ]
  },
  {
   "cell_type": "markdown",
   "metadata": {},
   "source": [
    "### 행렬식\n",
    "\n",
    "- 행렬을 대표하는 값들 중 하나\n",
    "- 선형변환 과정에서 Vector의 Scaling 척도\n",
    "- `np.linalg.det()`으로 계산"
   ]
  },
  {
   "cell_type": "code",
   "execution_count": 58,
   "metadata": {},
   "outputs": [
    {
     "data": {
      "text/plain": [
       "9.000000000000002"
      ]
     },
     "execution_count": 58,
     "metadata": {},
     "output_type": "execute_result"
    }
   ],
   "source": [
    "arr_2 = np.array([[2,3],[1,6]])\n",
    "np.linalg.det(arr_2)"
   ]
  },
  {
   "cell_type": "code",
   "execution_count": 59,
   "metadata": {},
   "outputs": [
    {
     "data": {
      "text/plain": [
       "0.0"
      ]
     },
     "execution_count": 59,
     "metadata": {},
     "output_type": "execute_result"
    }
   ],
   "source": [
    "arr_3 = np.array([[1,4,7],[2,5,8],[3,6,9]])\n",
    "np.linalg.det(arr_3)"
   ]
  },
  {
   "cell_type": "markdown",
   "metadata": {},
   "source": [
    "### 역행렬"
   ]
  },
  {
   "cell_type": "code",
   "execution_count": 64,
   "metadata": {},
   "outputs": [
    {
     "name": "stdout",
     "output_type": "stream",
     "text": [
      "[[-0.6  0.8]\n",
      " [ 0.4 -0.2]]\n"
     ]
    }
   ],
   "source": [
    "mat = np.array([[1,4],[2,3]])\n",
    "mat_inv = np.linalg.inv(mat)\n",
    "print(mat_inv)"
   ]
  },
  {
   "cell_type": "code",
   "execution_count": 65,
   "metadata": {},
   "outputs": [
    {
     "data": {
      "text/plain": [
       "array([[1., 0.],\n",
       "       [0., 1.]])"
      ]
     },
     "execution_count": 65,
     "metadata": {},
     "output_type": "execute_result"
    }
   ],
   "source": [
    "mat@mat_inv"
   ]
  },
  {
   "cell_type": "markdown",
   "metadata": {},
   "source": [
    "### eigenvalue, eigenvector\n",
    "\n",
    "- 정방행렬(nxn) A에 대해서 $Ax = \\lambda x$을 만족하는 $\\lambda$와 x를 각각 고유값과 고유벡터라고 한다."
   ]
  },
  {
   "cell_type": "code",
   "execution_count": 66,
   "metadata": {},
   "outputs": [],
   "source": [
    "mat = np.array([[2,0,-2], [1,1,-2],[0,0,1]])"
   ]
  },
  {
   "cell_type": "code",
   "execution_count": 67,
   "metadata": {},
   "outputs": [
    {
     "data": {
      "text/plain": [
       "(array([1., 2., 1.]),\n",
       " array([[0.        , 0.70710678, 0.89442719],\n",
       "        [1.        , 0.70710678, 0.        ],\n",
       "        [0.        , 0.        , 0.4472136 ]]))"
      ]
     },
     "execution_count": 67,
     "metadata": {},
     "output_type": "execute_result"
    }
   ],
   "source": [
    "np.linalg.eig(mat)"
   ]
  },
  {
   "cell_type": "markdown",
   "metadata": {},
   "source": [
    "#### Validation"
   ]
  },
  {
   "cell_type": "code",
   "execution_count": 71,
   "metadata": {},
   "outputs": [],
   "source": [
    "eig_val, eig_vec = np.linalg.eig(mat)"
   ]
  },
  {
   "cell_type": "code",
   "execution_count": 73,
   "metadata": {},
   "outputs": [
    {
     "data": {
      "text/plain": [
       "array([0., 1., 0.])"
      ]
     },
     "execution_count": 73,
     "metadata": {},
     "output_type": "execute_result"
    }
   ],
   "source": [
    "eig_vec[:, 0]"
   ]
  },
  {
   "cell_type": "code",
   "execution_count": 70,
   "metadata": {},
   "outputs": [
    {
     "data": {
      "text/plain": [
       "array([0., 1., 0.])"
      ]
     },
     "execution_count": 70,
     "metadata": {},
     "output_type": "execute_result"
    }
   ],
   "source": [
    "mat @ eig_vec[:, 0]"
   ]
  },
  {
   "cell_type": "code",
   "execution_count": 72,
   "metadata": {},
   "outputs": [
    {
     "data": {
      "text/plain": [
       "array([0., 1., 0.])"
      ]
     },
     "execution_count": 72,
     "metadata": {},
     "output_type": "execute_result"
    }
   ],
   "source": [
    "eig_val[0] * eig_vec[:, 0]# lambda x"
   ]
  },
  {
   "cell_type": "markdown",
   "metadata": {},
   "source": [
    "## IV. Exercises"
   ]
  },
  {
   "cell_type": "markdown",
   "metadata": {},
   "source": [
    "### 1. 어떤 벡터가 주어졌을 때 L2 norm을 구하는 함수 `get_L2_norm()`을 작성하세요\n",
    "\n",
    "- **매개변수** : 1차원 벡터 (`np.array`)\n",
    "- **반환값** : 인자로 주어진 벡터의 L2 Norm값 (`number`)"
   ]
  },
  {
   "cell_type": "code",
   "execution_count": 78,
   "metadata": {},
   "outputs": [
    {
     "name": "stdout",
     "output_type": "stream",
     "text": [
      "3.7416573867739413\n"
     ]
    }
   ],
   "source": [
    "def get_L2_norm(mat):\n",
    "    return np.linalg.norm(mat)\n",
    "\n",
    "mat = np.array([1,2,3])\n",
    "number = get_L2_norm(mat)\n",
    "\n",
    "print(number)"
   ]
  },
  {
   "cell_type": "markdown",
   "metadata": {},
   "source": [
    "### 2. 어떤 행렬이 singular matrix인지 확인하는 함수 `is_singular()` 를 작성하세요\n",
    "\n",
    "- 매개변수 : 2차원 벡터(`np.array`)\n",
    "- 반환값 : 인자로 주어진 벡터가 singular하면 True, non-singular하면 False를 반환 "
   ]
  },
  {
   "cell_type": "code",
   "execution_count": 80,
   "metadata": {},
   "outputs": [
    {
     "name": "stdout",
     "output_type": "stream",
     "text": [
      "True\n",
      "False\n"
     ]
    }
   ],
   "source": [
    "def is_singular(mat):\n",
    "    if np.linalg.det(mat) == 0:\n",
    "        return True\n",
    "    else:\n",
    "        return False\n",
    "\n",
    "mat = np.array([[1,4,7],[2,5,8],[3,6,9]])\n",
    "print(is_singular(mat))\n",
    "\n",
    "mat = np.array([[2,3],[1,6]])\n",
    "print(is_singular(mat))"
   ]
  }
 ],
 "metadata": {
  "kernelspec": {
   "display_name": "Python 3",
   "language": "python",
   "name": "python3"
  },
  "language_info": {
   "codemirror_mode": {
    "name": "ipython",
    "version": 3
   },
   "file_extension": ".py",
   "mimetype": "text/x-python",
   "name": "python",
   "nbconvert_exporter": "python",
   "pygments_lexer": "ipython3",
   "version": "3.8.5"
  }
 },
 "nbformat": 4,
 "nbformat_minor": 4
}
